{
 "cells": [
  {
   "cell_type": "markdown",
   "metadata": {},
   "source": [
    "怎么合理组合多个函数和类"
   ]
  },
  {
   "cell_type": "code",
   "execution_count": null,
   "metadata": {},
   "outputs": [],
   "source": []
  }
 ],
 "metadata": {
  "language_info": {
   "name": "python"
  }
 },
 "nbformat": 4,
 "nbformat_minor": 2
}
