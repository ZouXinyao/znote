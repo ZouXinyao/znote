{
 "cells": [
  {
   "cell_type": "markdown",
   "metadata": {},
   "source": [
    "# 列表 list  \n",
    "列表可以存一系列对象，也可以在一个列表中存储不同的对象。"
   ]
  },
  {
   "cell_type": "code",
   "execution_count": 30,
   "metadata": {},
   "outputs": [
    {
     "name": "stdout",
     "output_type": "stream",
     "text": [
      "<class 'list'>\n",
      "['a', 'b', 'c', 'd', 'e', ['f', 'g'], 1]\n"
     ]
    }
   ],
   "source": [
    "demo = ['a', 'b', 'c', 'd', 'e', ['f','g'], 1]\n",
    "print(type(demo))\n",
    "print(demo)"
   ]
  },
  {
   "cell_type": "code",
   "execution_count": 31,
   "metadata": {},
   "outputs": [
    {
     "name": "stdout",
     "output_type": "stream",
     "text": [
      "<class 'str'> a\n",
      "<class 'str'> b\n",
      "<class 'str'> c\n",
      "<class 'str'> d\n",
      "<class 'str'> e\n",
      "<class 'list'> ['f', 'g']\n",
      "<class 'int'> 1\n"
     ]
    }
   ],
   "source": [
    "for i in demo:\n",
    "    print(type(i), i)"
   ]
  },
  {
   "cell_type": "markdown",
   "metadata": {},
   "source": [
    "## 创建列表：  \n",
    "1. 用[]创建  \n",
    "2. 用list()函数创建，可以把字符串、元组转化为列表  \n",
    "3. 使用推导式创建列表  "
   ]
  },
  {
   "cell_type": "code",
   "execution_count": 32,
   "metadata": {},
   "outputs": [
    {
     "name": "stdout",
     "output_type": "stream",
     "text": [
      "['p', 'y', 't', 'h', 'o', 'n']\n",
      "[1, 2, 3, 4]\n",
      "[0, 1, 2, 3, 4, 5, 6, 7, 8, 9]\n"
     ]
    }
   ],
   "source": [
    "demo = list('python')\n",
    "print(demo)\n",
    "demo = list((1,2,3,4))\n",
    "print(demo)\n",
    "demo = [x for x in range(10)]\n",
    "print(demo)"
   ]
  },
  {
   "cell_type": "markdown",
   "metadata": {},
   "source": [
    "## 访问列表中的元素：\n",
    "可以使用-1作为索引访问"
   ]
  },
  {
   "cell_type": "code",
   "execution_count": 33,
   "metadata": {},
   "outputs": [
    {
     "name": "stdout",
     "output_type": "stream",
     "text": [
      "1\n"
     ]
    }
   ],
   "source": [
    "demo = ['a', 'b', 'c', 'd', 'e', ['f','g'], 1]\n",
    "print(demo[-1])"
   ]
  },
  {
   "cell_type": "markdown",
   "metadata": {},
   "source": [
    "## 列表的切片：\n",
    "1. list[i:j]的结果是[i,j)的所有元素  \n",
    "2. list[i:j:k]的结果是[i,j)的中，每间隔k个元素为一个有效元素"
   ]
  },
  {
   "cell_type": "code",
   "execution_count": 34,
   "metadata": {},
   "outputs": [
    {
     "name": "stdout",
     "output_type": "stream",
     "text": [
      "['b', 'c', 'd']\n",
      "['b', 'c', 'd', 'e', ['f', 'g']]\n",
      "['b', 'e']\n"
     ]
    }
   ],
   "source": [
    "demo = ['a', 'b', 'c', 'd', 'e', ['f','g'], 1]\n",
    "print(demo[1:4])\n",
    "print(demo[1:-1])\n",
    "print(demo[1:-1:3])"
   ]
  },
  {
   "cell_type": "markdown",
   "metadata": {},
   "source": [
    "## 删除元素：\n",
    "1. 删除其中一个元素：del list[0]\n",
    "2. 删除整个列表：del list"
   ]
  },
  {
   "cell_type": "code",
   "execution_count": 36,
   "metadata": {},
   "outputs": [
    {
     "name": "stdout",
     "output_type": "stream",
     "text": [
      "['b', 'c', 'd', 'e', ['f', 'g'], 1]\n",
      "['b', 'c', 'd', 'e', ['f', 'g']]\n"
     ]
    }
   ],
   "source": [
    "demo = ['a', 'b', 'c', 'd', 'e', ['f','g'], 1]\n",
    "del demo[0]\n",
    "print(demo)\n",
    "del demo[-1]\n",
    "print(demo)\n",
    "del demo\n",
    "# print(demo)"
   ]
  },
  {
   "cell_type": "markdown",
   "metadata": {},
   "source": [
    "## 列表的操作\n",
    "1. list.insert(i, val)     在i位置插入元素val\n",
    "2. list.append(val)        在结尾添加元素val\n",
    "3. list.extend(list1)      在结尾扩展list1，list1可以是其他可迭代对象\n",
    "\n",
    "序列（列表、元组、字符串）、字典、集合都是可迭代的。"
   ]
  },
  {
   "cell_type": "code",
   "execution_count": null,
   "metadata": {},
   "outputs": [
    {
     "name": "stdout",
     "output_type": "stream",
     "text": [
      "[100, 1, 2, 3, 4] --insert(0, 100)\n",
      "[100, 1, 2, 3, 100, 4] --insert(-1, 100)\n",
      "[100, 1, 2, 3, 100, 4, 200] --append(200)\n",
      "[100, 1, 2, 3, 100, 4, 200, 50, 60, 70] --extend([50, 60, 70])\n",
      "[100, 1, 2, 3, 100, 4, 200, 50, 60, 70, 'a', 'b', 'c'] --extend(\"abc\")\n"
     ]
    }
   ],
   "source": [
    "demo = [1, 2, 3, 4]\n",
    "demo.insert(0, 100)\n",
    "print(demo, '--insert(0, 100)')\n",
    "demo.insert(-1, 100)\n",
    "print(demo, '--insert(-1, 100)')\n",
    "demo.append(200)\n",
    "print(demo, '--append(200)')\n",
    "demo.extend([50, 60, 70])\n",
    "print(demo, '--extend([50, 60, 70])')\n",
    "demo.extend('abc')\n",
    "print(demo, '--extend(\"abc\")')"
   ]
  },
  {
   "cell_type": "markdown",
   "metadata": {},
   "source": [
    "1. list.remove(val)    移除列表中的第一个值为val元素\n",
    "2. list.reverse()      反转列表\n",
    "3. list.pop(idx)       移除idx位置的元素，并返回该值。\n",
    "4. list.pop()          移除最后一个元素，并返回该值\n",
    "5. list.copy()         复制列表\n",
    "6. list.clear()        清空列表"
   ]
  },
  {
   "cell_type": "code",
   "execution_count": null,
   "metadata": {},
   "outputs": [
    {
     "name": "stdout",
     "output_type": "stream",
     "text": [
      "[1, 2, 3, 5, 6, 7, 4, 5, 6, 7] --remove(4)\n",
      "[1, 3, 5, 6, 7, 4, 5, 6, 7] --pop(1)\n",
      "[1, 3, 5, 6, 7, 4, 5, 6] --pop\n",
      "[1, 3, 5, 6, 7, 4, 5, 6] --copy\n",
      "[6, 5, 4, 7, 6, 5, 3, 1] --reverse\n",
      "[] --clear\n"
     ]
    }
   ],
   "source": [
    "demo = [1, 2, 3, 4, 5, 6, 7, 4, 5, 6, 7]\n",
    "demo.remove(4)\n",
    "print(demo, '--remove(4)')\n",
    "demo.pop(1)\n",
    "print(demo, '--pop(1)')\n",
    "demo.pop()\n",
    "print(demo, '--pop')\n",
    "demo1 = demo.copy()\n",
    "print(demo1, '--copy')\n",
    "demo.reverse()\n",
    "print(demo, '--reverse')\n",
    "demo.clear()\n",
    "print(demo, '--clear')"
   ]
  },
  {
   "cell_type": "markdown",
   "metadata": {},
   "source": [
    "1. len(list) 计算列表长度\n",
    "2. list.count(val) 统计val的次数"
   ]
  },
  {
   "cell_type": "code",
   "execution_count": null,
   "metadata": {},
   "outputs": [
    {
     "name": "stdout",
     "output_type": "stream",
     "text": [
      "demo:  [1, 2, 3, 4, 5, 6, 7, 4, 5, 6, 7]\n",
      "len:  11\n",
      "count(5):  2\n"
     ]
    }
   ],
   "source": [
    "demo = [1, 2, 3, 4, 5, 6, 7, 4, 5, 6, 7]\n",
    "print('demo: ', demo)\n",
    "print('len: ', len(demo))\n",
    "print('count(5): ', demo.count(5))"
   ]
  },
  {
   "cell_type": "markdown",
   "metadata": {},
   "source": [
    "1. list.sort()     原地排序\n",
    "2. list.sort(reverse=True)     原地逆序排序"
   ]
  },
  {
   "cell_type": "code",
   "execution_count": 37,
   "metadata": {},
   "outputs": [
    {
     "name": "stdout",
     "output_type": "stream",
     "text": [
      "[1, 2, 3, 4, 4, 5, 5, 6, 6, 7, 7] --sort()\n",
      "[7, 7, 6, 6, 5, 5, 4, 4, 3, 2, 1] --sort(reverse=True)\n"
     ]
    }
   ],
   "source": [
    "demo = [1, 2, 3, 4, 5, 6, 7, 4, 5, 6, 7]\n",
    "demo.sort()\n",
    "print(demo, '--sort()')\n",
    "\n",
    "demo = [1, 2, 3, 4, 5, 6, 7, 4, 5, 6, 7]\n",
    "demo.sort(reverse=True)\n",
    "print(demo, '--sort(reverse=True)')"
   ]
  }
 ],
 "metadata": {
  "kernelspec": {
   "display_name": "Python 3",
   "language": "python",
   "name": "python3"
  },
  "language_info": {
   "codemirror_mode": {
    "name": "ipython",
    "version": 3
   },
   "file_extension": ".py",
   "mimetype": "text/x-python",
   "name": "python",
   "nbconvert_exporter": "python",
   "pygments_lexer": "ipython3",
   "version": "3.11.8"
  }
 },
 "nbformat": 4,
 "nbformat_minor": 2
}
